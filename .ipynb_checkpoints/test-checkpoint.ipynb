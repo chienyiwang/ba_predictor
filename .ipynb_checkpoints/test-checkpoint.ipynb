{
 "cells": [
  {
   "cell_type": "code",
   "execution_count": 1,
   "metadata": {},
   "outputs": [],
   "source": [
    "import pandas as pd\n",
    "import numpy as np\n",
    "import matplotlib.pyplot as plt"
   ]
  },
  {
   "cell_type": "code",
   "execution_count": 2,
   "metadata": {},
   "outputs": [],
   "source": [
    "%matplotlib inline"
   ]
  },
  {
   "cell_type": "code",
   "execution_count": 3,
   "metadata": {},
   "outputs": [],
   "source": [
    "data = pd.read_csv('BA_predictor_clean.csv')"
   ]
  },
  {
   "cell_type": "code",
   "execution_count": 4,
   "metadata": {},
   "outputs": [
    {
     "data": {
      "text/html": [
       "<div>\n",
       "<style scoped>\n",
       "    .dataframe tbody tr th:only-of-type {\n",
       "        vertical-align: middle;\n",
       "    }\n",
       "\n",
       "    .dataframe tbody tr th {\n",
       "        vertical-align: top;\n",
       "    }\n",
       "\n",
       "    .dataframe thead th {\n",
       "        text-align: right;\n",
       "    }\n",
       "</style>\n",
       "<table border=\"1\" class=\"dataframe\">\n",
       "  <thead>\n",
       "    <tr style=\"text-align: right;\">\n",
       "      <th></th>\n",
       "      <th>ID</th>\n",
       "      <th>Kasai age</th>\n",
       "      <th>post.1wk T.bil</th>\n",
       "      <th>post.1wk D.bil</th>\n",
       "      <th>post.1wk GGT</th>\n",
       "      <th>pre.Kop GGT</th>\n",
       "      <th>pre.Kop T.bil</th>\n",
       "      <th>pre.Kop D.bil</th>\n",
       "      <th>Gender</th>\n",
       "      <th>Jfree</th>\n",
       "      <th>...</th>\n",
       "      <th>splenomegaly</th>\n",
       "      <th>ascites</th>\n",
       "      <th>EV/GV</th>\n",
       "      <th>GI bleeding</th>\n",
       "      <th>cholangitis</th>\n",
       "      <th>JF-NLS</th>\n",
       "      <th>LTx</th>\n",
       "      <th>LTx or Death</th>\n",
       "      <th>pre-LTx</th>\n",
       "      <th>NLS</th>\n",
       "    </tr>\n",
       "  </thead>\n",
       "  <tbody>\n",
       "    <tr>\n",
       "      <th>0</th>\n",
       "      <td>3866259</td>\n",
       "      <td>118</td>\n",
       "      <td>7.9</td>\n",
       "      <td>5.4</td>\n",
       "      <td>617.0</td>\n",
       "      <td>617.0</td>\n",
       "      <td>5.40</td>\n",
       "      <td>4.2</td>\n",
       "      <td>0</td>\n",
       "      <td>1</td>\n",
       "      <td>...</td>\n",
       "      <td>1</td>\n",
       "      <td>1</td>\n",
       "      <td>1</td>\n",
       "      <td>1</td>\n",
       "      <td>0</td>\n",
       "      <td>3</td>\n",
       "      <td>1</td>\n",
       "      <td>1</td>\n",
       "      <td>1</td>\n",
       "      <td>16</td>\n",
       "    </tr>\n",
       "    <tr>\n",
       "      <th>1</th>\n",
       "      <td>3989726</td>\n",
       "      <td>79</td>\n",
       "      <td>4.8</td>\n",
       "      <td>3.1</td>\n",
       "      <td>520.0</td>\n",
       "      <td>704.0</td>\n",
       "      <td>6.23</td>\n",
       "      <td>5.1</td>\n",
       "      <td>0</td>\n",
       "      <td>1</td>\n",
       "      <td>...</td>\n",
       "      <td>1</td>\n",
       "      <td>1</td>\n",
       "      <td>1</td>\n",
       "      <td>1</td>\n",
       "      <td>1</td>\n",
       "      <td>173</td>\n",
       "      <td>1</td>\n",
       "      <td>1</td>\n",
       "      <td>1</td>\n",
       "      <td>180</td>\n",
       "    </tr>\n",
       "    <tr>\n",
       "      <th>2</th>\n",
       "      <td>4095986</td>\n",
       "      <td>40</td>\n",
       "      <td>7.0</td>\n",
       "      <td>4.5</td>\n",
       "      <td>1058.0</td>\n",
       "      <td>NaN</td>\n",
       "      <td>5.28</td>\n",
       "      <td>4.0</td>\n",
       "      <td>1</td>\n",
       "      <td>0</td>\n",
       "      <td>...</td>\n",
       "      <td>1</td>\n",
       "      <td>1</td>\n",
       "      <td>0</td>\n",
       "      <td>0</td>\n",
       "      <td>1</td>\n",
       "      <td>0</td>\n",
       "      <td>1</td>\n",
       "      <td>1</td>\n",
       "      <td>1</td>\n",
       "      <td>5</td>\n",
       "    </tr>\n",
       "  </tbody>\n",
       "</table>\n",
       "<p>3 rows × 23 columns</p>\n",
       "</div>"
      ],
      "text/plain": [
       "        ID  Kasai age  post.1wk T.bil  post.1wk D.bil  post.1wk GGT  \\\n",
       "0  3866259        118             7.9             5.4         617.0   \n",
       "1  3989726         79             4.8             3.1         520.0   \n",
       "2  4095986         40             7.0             4.5        1058.0   \n",
       "\n",
       "   pre.Kop GGT  pre.Kop T.bil  pre.Kop D.bil  Gender  Jfree  ...  \\\n",
       "0        617.0           5.40            4.2       0      1  ...   \n",
       "1        704.0           6.23            5.1       0      1  ...   \n",
       "2          NaN           5.28            4.0       1      0  ...   \n",
       "\n",
       "   splenomegaly  ascites  EV/GV  GI bleeding  cholangitis  JF-NLS  LTx  \\\n",
       "0             1        1      1            1            0       3    1   \n",
       "1             1        1      1            1            1     173    1   \n",
       "2             1        1      0            0            1       0    1   \n",
       "\n",
       "   LTx or Death  pre-LTx  NLS  \n",
       "0             1        1   16  \n",
       "1             1        1  180  \n",
       "2             1        1    5  \n",
       "\n",
       "[3 rows x 23 columns]"
      ]
     },
     "execution_count": 4,
     "metadata": {},
     "output_type": "execute_result"
    }
   ],
   "source": [
    "data.head(3)"
   ]
  },
  {
   "cell_type": "code",
   "execution_count": 5,
   "metadata": {},
   "outputs": [
    {
     "data": {
      "text/plain": [
       "ID                       5.567481e+06\n",
       "Kasai age                5.285185e+01\n",
       "post.1wk T.bil           6.012469e+00\n",
       "post.1wk D.bil           3.920875e+00\n",
       "post.1wk GGT             5.659296e+02\n",
       "pre.Kop GGT              5.217733e+02\n",
       "pre.Kop T.bil            8.440506e+00\n",
       "pre.Kop D.bil            5.399494e+00\n",
       "Gender                   4.320988e-01\n",
       "Jfree                    7.160494e-01\n",
       "Jfree in 3months         5.061728e-01\n",
       "follow up time           4.512346e+01\n",
       "post-op juandice time    1.449753e+02\n",
       "splenomegaly             6.296296e-01\n",
       "ascites                  3.086420e-01\n",
       "EV/GV                    3.456790e-01\n",
       "GI bleeding              2.716049e-01\n",
       "cholangitis              5.061728e-01\n",
       "JF-NLS                   3.632099e+01\n",
       "LTx                      4.691358e-01\n",
       "LTx or Death             5.061728e-01\n",
       "pre-LTx                  5.432099e-01\n",
       "NLS                      4.638272e+01\n",
       "dtype: float64"
      ]
     },
     "execution_count": 5,
     "metadata": {},
     "output_type": "execute_result"
    }
   ],
   "source": [
    "data.mean()"
   ]
  },
  {
   "cell_type": "code",
   "execution_count": 6,
   "metadata": {
    "scrolled": true
   },
   "outputs": [],
   "source": [
    "data = data.fillna(data.mean())"
   ]
  },
  {
   "cell_type": "code",
   "execution_count": 7,
   "metadata": {},
   "outputs": [
    {
     "name": "stdout",
     "output_type": "stream",
     "text": [
      "<class 'pandas.core.frame.DataFrame'>\n",
      "RangeIndex: 81 entries, 0 to 80\n",
      "Data columns (total 23 columns):\n",
      "ID                       81 non-null int64\n",
      "Kasai age                81 non-null int64\n",
      "post.1wk T.bil           81 non-null float64\n",
      "post.1wk D.bil           81 non-null float64\n",
      "post.1wk GGT             81 non-null float64\n",
      "pre.Kop GGT              81 non-null float64\n",
      "pre.Kop T.bil            81 non-null float64\n",
      "pre.Kop D.bil            81 non-null float64\n",
      "Gender                   81 non-null int64\n",
      "Jfree                    81 non-null int64\n",
      "Jfree in 3months         81 non-null int64\n",
      "follow up time           81 non-null int64\n",
      "post-op juandice time    81 non-null int64\n",
      "splenomegaly             81 non-null int64\n",
      "ascites                  81 non-null int64\n",
      "EV/GV                    81 non-null int64\n",
      "GI bleeding              81 non-null int64\n",
      "cholangitis              81 non-null int64\n",
      "JF-NLS                   81 non-null int64\n",
      "LTx                      81 non-null int64\n",
      "LTx or Death             81 non-null int64\n",
      "pre-LTx                  81 non-null int64\n",
      "NLS                      81 non-null int64\n",
      "dtypes: float64(6), int64(17)\n",
      "memory usage: 14.6 KB\n"
     ]
    }
   ],
   "source": [
    "data.info()"
   ]
  },
  {
   "cell_type": "code",
   "execution_count": 8,
   "metadata": {},
   "outputs": [
    {
     "data": {
      "text/html": [
       "<div>\n",
       "<style scoped>\n",
       "    .dataframe tbody tr th:only-of-type {\n",
       "        vertical-align: middle;\n",
       "    }\n",
       "\n",
       "    .dataframe tbody tr th {\n",
       "        vertical-align: top;\n",
       "    }\n",
       "\n",
       "    .dataframe thead th {\n",
       "        text-align: right;\n",
       "    }\n",
       "</style>\n",
       "<table border=\"1\" class=\"dataframe\">\n",
       "  <thead>\n",
       "    <tr style=\"text-align: right;\">\n",
       "      <th></th>\n",
       "      <th>ID</th>\n",
       "      <th>Kasai age</th>\n",
       "      <th>post.1wk T.bil</th>\n",
       "      <th>post.1wk D.bil</th>\n",
       "      <th>post.1wk GGT</th>\n",
       "      <th>pre.Kop GGT</th>\n",
       "      <th>pre.Kop T.bil</th>\n",
       "      <th>pre.Kop D.bil</th>\n",
       "      <th>Gender</th>\n",
       "      <th>Jfree</th>\n",
       "      <th>...</th>\n",
       "      <th>splenomegaly</th>\n",
       "      <th>ascites</th>\n",
       "      <th>EV/GV</th>\n",
       "      <th>GI bleeding</th>\n",
       "      <th>cholangitis</th>\n",
       "      <th>JF-NLS</th>\n",
       "      <th>LTx</th>\n",
       "      <th>LTx or Death</th>\n",
       "      <th>pre-LTx</th>\n",
       "      <th>NLS</th>\n",
       "    </tr>\n",
       "  </thead>\n",
       "  <tbody>\n",
       "    <tr>\n",
       "      <th>count</th>\n",
       "      <td>8.100000e+01</td>\n",
       "      <td>81.000000</td>\n",
       "      <td>81.000000</td>\n",
       "      <td>81.000000</td>\n",
       "      <td>81.000000</td>\n",
       "      <td>81.000000</td>\n",
       "      <td>81.000000</td>\n",
       "      <td>81.000000</td>\n",
       "      <td>81.000000</td>\n",
       "      <td>81.000000</td>\n",
       "      <td>...</td>\n",
       "      <td>81.000000</td>\n",
       "      <td>81.000000</td>\n",
       "      <td>81.000000</td>\n",
       "      <td>81.000000</td>\n",
       "      <td>81.000000</td>\n",
       "      <td>81.000000</td>\n",
       "      <td>81.000000</td>\n",
       "      <td>81.000000</td>\n",
       "      <td>81.000000</td>\n",
       "      <td>81.000000</td>\n",
       "    </tr>\n",
       "    <tr>\n",
       "      <th>mean</th>\n",
       "      <td>5.567481e+06</td>\n",
       "      <td>52.851852</td>\n",
       "      <td>6.012469</td>\n",
       "      <td>3.920875</td>\n",
       "      <td>565.929577</td>\n",
       "      <td>521.773333</td>\n",
       "      <td>8.440506</td>\n",
       "      <td>5.399494</td>\n",
       "      <td>0.432099</td>\n",
       "      <td>0.716049</td>\n",
       "      <td>...</td>\n",
       "      <td>0.629630</td>\n",
       "      <td>0.308642</td>\n",
       "      <td>0.345679</td>\n",
       "      <td>0.271605</td>\n",
       "      <td>0.506173</td>\n",
       "      <td>36.320988</td>\n",
       "      <td>0.469136</td>\n",
       "      <td>0.506173</td>\n",
       "      <td>0.543210</td>\n",
       "      <td>46.382716</td>\n",
       "    </tr>\n",
       "    <tr>\n",
       "      <th>std</th>\n",
       "      <td>7.366465e+05</td>\n",
       "      <td>21.374699</td>\n",
       "      <td>3.168630</td>\n",
       "      <td>1.892292</td>\n",
       "      <td>378.562159</td>\n",
       "      <td>433.924924</td>\n",
       "      <td>2.579558</td>\n",
       "      <td>1.993644</td>\n",
       "      <td>0.498454</td>\n",
       "      <td>0.453723</td>\n",
       "      <td>...</td>\n",
       "      <td>0.485913</td>\n",
       "      <td>0.464811</td>\n",
       "      <td>0.478552</td>\n",
       "      <td>0.447559</td>\n",
       "      <td>0.503077</td>\n",
       "      <td>48.870704</td>\n",
       "      <td>0.502156</td>\n",
       "      <td>0.503077</td>\n",
       "      <td>0.501233</td>\n",
       "      <td>49.058528</td>\n",
       "    </tr>\n",
       "    <tr>\n",
       "      <th>min</th>\n",
       "      <td>3.866259e+06</td>\n",
       "      <td>15.000000</td>\n",
       "      <td>2.260000</td>\n",
       "      <td>1.360000</td>\n",
       "      <td>119.000000</td>\n",
       "      <td>63.000000</td>\n",
       "      <td>3.570000</td>\n",
       "      <td>0.460000</td>\n",
       "      <td>0.000000</td>\n",
       "      <td>0.000000</td>\n",
       "      <td>...</td>\n",
       "      <td>0.000000</td>\n",
       "      <td>0.000000</td>\n",
       "      <td>0.000000</td>\n",
       "      <td>0.000000</td>\n",
       "      <td>0.000000</td>\n",
       "      <td>0.000000</td>\n",
       "      <td>0.000000</td>\n",
       "      <td>0.000000</td>\n",
       "      <td>0.000000</td>\n",
       "      <td>4.000000</td>\n",
       "    </tr>\n",
       "    <tr>\n",
       "      <th>25%</th>\n",
       "      <td>5.181938e+06</td>\n",
       "      <td>39.000000</td>\n",
       "      <td>4.310000</td>\n",
       "      <td>2.820000</td>\n",
       "      <td>298.000000</td>\n",
       "      <td>264.000000</td>\n",
       "      <td>6.710000</td>\n",
       "      <td>4.090000</td>\n",
       "      <td>0.000000</td>\n",
       "      <td>0.000000</td>\n",
       "      <td>...</td>\n",
       "      <td>0.000000</td>\n",
       "      <td>0.000000</td>\n",
       "      <td>0.000000</td>\n",
       "      <td>0.000000</td>\n",
       "      <td>0.000000</td>\n",
       "      <td>0.000000</td>\n",
       "      <td>0.000000</td>\n",
       "      <td>0.000000</td>\n",
       "      <td>0.000000</td>\n",
       "      <td>11.000000</td>\n",
       "    </tr>\n",
       "    <tr>\n",
       "      <th>50%</th>\n",
       "      <td>5.747888e+06</td>\n",
       "      <td>51.000000</td>\n",
       "      <td>5.390000</td>\n",
       "      <td>3.620000</td>\n",
       "      <td>565.929577</td>\n",
       "      <td>445.000000</td>\n",
       "      <td>8.310000</td>\n",
       "      <td>5.300000</td>\n",
       "      <td>0.000000</td>\n",
       "      <td>1.000000</td>\n",
       "      <td>...</td>\n",
       "      <td>1.000000</td>\n",
       "      <td>0.000000</td>\n",
       "      <td>0.000000</td>\n",
       "      <td>0.000000</td>\n",
       "      <td>1.000000</td>\n",
       "      <td>10.000000</td>\n",
       "      <td>0.000000</td>\n",
       "      <td>1.000000</td>\n",
       "      <td>1.000000</td>\n",
       "      <td>21.000000</td>\n",
       "    </tr>\n",
       "    <tr>\n",
       "      <th>75%</th>\n",
       "      <td>6.142182e+06</td>\n",
       "      <td>64.000000</td>\n",
       "      <td>6.850000</td>\n",
       "      <td>4.530000</td>\n",
       "      <td>706.000000</td>\n",
       "      <td>626.000000</td>\n",
       "      <td>9.830000</td>\n",
       "      <td>6.230000</td>\n",
       "      <td>1.000000</td>\n",
       "      <td>1.000000</td>\n",
       "      <td>...</td>\n",
       "      <td>1.000000</td>\n",
       "      <td>1.000000</td>\n",
       "      <td>1.000000</td>\n",
       "      <td>1.000000</td>\n",
       "      <td>1.000000</td>\n",
       "      <td>64.000000</td>\n",
       "      <td>1.000000</td>\n",
       "      <td>1.000000</td>\n",
       "      <td>1.000000</td>\n",
       "      <td>76.000000</td>\n",
       "    </tr>\n",
       "    <tr>\n",
       "      <th>max</th>\n",
       "      <td>6.545138e+06</td>\n",
       "      <td>118.000000</td>\n",
       "      <td>21.720000</td>\n",
       "      <td>14.750000</td>\n",
       "      <td>2461.000000</td>\n",
       "      <td>3340.000000</td>\n",
       "      <td>19.080000</td>\n",
       "      <td>12.400000</td>\n",
       "      <td>1.000000</td>\n",
       "      <td>1.000000</td>\n",
       "      <td>...</td>\n",
       "      <td>1.000000</td>\n",
       "      <td>1.000000</td>\n",
       "      <td>1.000000</td>\n",
       "      <td>1.000000</td>\n",
       "      <td>1.000000</td>\n",
       "      <td>174.000000</td>\n",
       "      <td>1.000000</td>\n",
       "      <td>1.000000</td>\n",
       "      <td>1.000000</td>\n",
       "      <td>180.000000</td>\n",
       "    </tr>\n",
       "  </tbody>\n",
       "</table>\n",
       "<p>8 rows × 23 columns</p>\n",
       "</div>"
      ],
      "text/plain": [
       "                 ID   Kasai age  post.1wk T.bil  post.1wk D.bil  post.1wk GGT  \\\n",
       "count  8.100000e+01   81.000000       81.000000       81.000000     81.000000   \n",
       "mean   5.567481e+06   52.851852        6.012469        3.920875    565.929577   \n",
       "std    7.366465e+05   21.374699        3.168630        1.892292    378.562159   \n",
       "min    3.866259e+06   15.000000        2.260000        1.360000    119.000000   \n",
       "25%    5.181938e+06   39.000000        4.310000        2.820000    298.000000   \n",
       "50%    5.747888e+06   51.000000        5.390000        3.620000    565.929577   \n",
       "75%    6.142182e+06   64.000000        6.850000        4.530000    706.000000   \n",
       "max    6.545138e+06  118.000000       21.720000       14.750000   2461.000000   \n",
       "\n",
       "       pre.Kop GGT  pre.Kop T.bil  pre.Kop D.bil     Gender      Jfree  ...  \\\n",
       "count    81.000000      81.000000      81.000000  81.000000  81.000000  ...   \n",
       "mean    521.773333       8.440506       5.399494   0.432099   0.716049  ...   \n",
       "std     433.924924       2.579558       1.993644   0.498454   0.453723  ...   \n",
       "min      63.000000       3.570000       0.460000   0.000000   0.000000  ...   \n",
       "25%     264.000000       6.710000       4.090000   0.000000   0.000000  ...   \n",
       "50%     445.000000       8.310000       5.300000   0.000000   1.000000  ...   \n",
       "75%     626.000000       9.830000       6.230000   1.000000   1.000000  ...   \n",
       "max    3340.000000      19.080000      12.400000   1.000000   1.000000  ...   \n",
       "\n",
       "       splenomegaly    ascites      EV/GV  GI bleeding  cholangitis  \\\n",
       "count     81.000000  81.000000  81.000000    81.000000    81.000000   \n",
       "mean       0.629630   0.308642   0.345679     0.271605     0.506173   \n",
       "std        0.485913   0.464811   0.478552     0.447559     0.503077   \n",
       "min        0.000000   0.000000   0.000000     0.000000     0.000000   \n",
       "25%        0.000000   0.000000   0.000000     0.000000     0.000000   \n",
       "50%        1.000000   0.000000   0.000000     0.000000     1.000000   \n",
       "75%        1.000000   1.000000   1.000000     1.000000     1.000000   \n",
       "max        1.000000   1.000000   1.000000     1.000000     1.000000   \n",
       "\n",
       "           JF-NLS        LTx  LTx or Death    pre-LTx         NLS  \n",
       "count   81.000000  81.000000     81.000000  81.000000   81.000000  \n",
       "mean    36.320988   0.469136      0.506173   0.543210   46.382716  \n",
       "std     48.870704   0.502156      0.503077   0.501233   49.058528  \n",
       "min      0.000000   0.000000      0.000000   0.000000    4.000000  \n",
       "25%      0.000000   0.000000      0.000000   0.000000   11.000000  \n",
       "50%     10.000000   0.000000      1.000000   1.000000   21.000000  \n",
       "75%     64.000000   1.000000      1.000000   1.000000   76.000000  \n",
       "max    174.000000   1.000000      1.000000   1.000000  180.000000  \n",
       "\n",
       "[8 rows x 23 columns]"
      ]
     },
     "execution_count": 8,
     "metadata": {},
     "output_type": "execute_result"
    }
   ],
   "source": [
    "data.describe()"
   ]
  },
  {
   "cell_type": "code",
   "execution_count": 9,
   "metadata": {},
   "outputs": [],
   "source": [
    "from sklearn.model_selection import train_test_split\n",
    "train, test = train_test_split(data, test_size=0.05)"
   ]
  },
  {
   "cell_type": "code",
   "execution_count": 10,
   "metadata": {},
   "outputs": [
    {
     "name": "stdout",
     "output_type": "stream",
     "text": [
      "<class 'pandas.core.frame.DataFrame'>\n",
      "Int64Index: 76 entries, 1 to 20\n",
      "Data columns (total 23 columns):\n",
      "ID                       76 non-null int64\n",
      "Kasai age                76 non-null int64\n",
      "post.1wk T.bil           76 non-null float64\n",
      "post.1wk D.bil           76 non-null float64\n",
      "post.1wk GGT             76 non-null float64\n",
      "pre.Kop GGT              76 non-null float64\n",
      "pre.Kop T.bil            76 non-null float64\n",
      "pre.Kop D.bil            76 non-null float64\n",
      "Gender                   76 non-null int64\n",
      "Jfree                    76 non-null int64\n",
      "Jfree in 3months         76 non-null int64\n",
      "follow up time           76 non-null int64\n",
      "post-op juandice time    76 non-null int64\n",
      "splenomegaly             76 non-null int64\n",
      "ascites                  76 non-null int64\n",
      "EV/GV                    76 non-null int64\n",
      "GI bleeding              76 non-null int64\n",
      "cholangitis              76 non-null int64\n",
      "JF-NLS                   76 non-null int64\n",
      "LTx                      76 non-null int64\n",
      "LTx or Death             76 non-null int64\n",
      "pre-LTx                  76 non-null int64\n",
      "NLS                      76 non-null int64\n",
      "dtypes: float64(6), int64(17)\n",
      "memory usage: 14.2 KB\n"
     ]
    }
   ],
   "source": [
    "train.info()"
   ]
  },
  {
   "cell_type": "code",
   "execution_count": 11,
   "metadata": {},
   "outputs": [
    {
     "name": "stdout",
     "output_type": "stream",
     "text": [
      "<class 'pandas.core.frame.DataFrame'>\n",
      "Int64Index: 5 entries, 28 to 43\n",
      "Data columns (total 23 columns):\n",
      "ID                       5 non-null int64\n",
      "Kasai age                5 non-null int64\n",
      "post.1wk T.bil           5 non-null float64\n",
      "post.1wk D.bil           5 non-null float64\n",
      "post.1wk GGT             5 non-null float64\n",
      "pre.Kop GGT              5 non-null float64\n",
      "pre.Kop T.bil            5 non-null float64\n",
      "pre.Kop D.bil            5 non-null float64\n",
      "Gender                   5 non-null int64\n",
      "Jfree                    5 non-null int64\n",
      "Jfree in 3months         5 non-null int64\n",
      "follow up time           5 non-null int64\n",
      "post-op juandice time    5 non-null int64\n",
      "splenomegaly             5 non-null int64\n",
      "ascites                  5 non-null int64\n",
      "EV/GV                    5 non-null int64\n",
      "GI bleeding              5 non-null int64\n",
      "cholangitis              5 non-null int64\n",
      "JF-NLS                   5 non-null int64\n",
      "LTx                      5 non-null int64\n",
      "LTx or Death             5 non-null int64\n",
      "pre-LTx                  5 non-null int64\n",
      "NLS                      5 non-null int64\n",
      "dtypes: float64(6), int64(17)\n",
      "memory usage: 960.0 bytes\n"
     ]
    }
   ],
   "source": [
    "test.info()"
   ]
  },
  {
   "cell_type": "code",
   "execution_count": 12,
   "metadata": {},
   "outputs": [
    {
     "data": {
      "text/html": [
       "<div>\n",
       "<style scoped>\n",
       "    .dataframe tbody tr th:only-of-type {\n",
       "        vertical-align: middle;\n",
       "    }\n",
       "\n",
       "    .dataframe tbody tr th {\n",
       "        vertical-align: top;\n",
       "    }\n",
       "\n",
       "    .dataframe thead th {\n",
       "        text-align: right;\n",
       "    }\n",
       "</style>\n",
       "<table border=\"1\" class=\"dataframe\">\n",
       "  <thead>\n",
       "    <tr style=\"text-align: right;\">\n",
       "      <th></th>\n",
       "      <th>ID</th>\n",
       "      <th>Kasai age</th>\n",
       "      <th>post.1wk T.bil</th>\n",
       "      <th>post.1wk D.bil</th>\n",
       "      <th>post.1wk GGT</th>\n",
       "      <th>pre.Kop GGT</th>\n",
       "      <th>pre.Kop T.bil</th>\n",
       "      <th>pre.Kop D.bil</th>\n",
       "      <th>Gender</th>\n",
       "      <th>Jfree</th>\n",
       "      <th>...</th>\n",
       "      <th>splenomegaly</th>\n",
       "      <th>ascites</th>\n",
       "      <th>EV/GV</th>\n",
       "      <th>GI bleeding</th>\n",
       "      <th>cholangitis</th>\n",
       "      <th>JF-NLS</th>\n",
       "      <th>LTx</th>\n",
       "      <th>LTx or Death</th>\n",
       "      <th>pre-LTx</th>\n",
       "      <th>NLS</th>\n",
       "    </tr>\n",
       "  </thead>\n",
       "  <tbody>\n",
       "    <tr>\n",
       "      <th>count</th>\n",
       "      <td>7.600000e+01</td>\n",
       "      <td>76.000000</td>\n",
       "      <td>76.000000</td>\n",
       "      <td>76.000000</td>\n",
       "      <td>76.000000</td>\n",
       "      <td>76.000000</td>\n",
       "      <td>76.000000</td>\n",
       "      <td>76.000000</td>\n",
       "      <td>76.000000</td>\n",
       "      <td>76.000000</td>\n",
       "      <td>...</td>\n",
       "      <td>76.000000</td>\n",
       "      <td>76.000000</td>\n",
       "      <td>76.000000</td>\n",
       "      <td>76.000000</td>\n",
       "      <td>76.000000</td>\n",
       "      <td>76.000000</td>\n",
       "      <td>76.000000</td>\n",
       "      <td>76.000000</td>\n",
       "      <td>76.000000</td>\n",
       "      <td>76.000000</td>\n",
       "    </tr>\n",
       "    <tr>\n",
       "      <th>mean</th>\n",
       "      <td>5.567077e+06</td>\n",
       "      <td>52.947368</td>\n",
       "      <td>6.009211</td>\n",
       "      <td>3.911196</td>\n",
       "      <td>568.872313</td>\n",
       "      <td>520.179474</td>\n",
       "      <td>8.502119</td>\n",
       "      <td>5.415908</td>\n",
       "      <td>0.434211</td>\n",
       "      <td>0.723684</td>\n",
       "      <td>...</td>\n",
       "      <td>0.618421</td>\n",
       "      <td>0.328947</td>\n",
       "      <td>0.342105</td>\n",
       "      <td>0.276316</td>\n",
       "      <td>0.513158</td>\n",
       "      <td>37.144737</td>\n",
       "      <td>0.486842</td>\n",
       "      <td>0.526316</td>\n",
       "      <td>0.552632</td>\n",
       "      <td>47.381579</td>\n",
       "    </tr>\n",
       "    <tr>\n",
       "      <th>std</th>\n",
       "      <td>7.435691e+05</td>\n",
       "      <td>21.967184</td>\n",
       "      <td>3.228167</td>\n",
       "      <td>1.911923</td>\n",
       "      <td>387.024169</td>\n",
       "      <td>447.011251</td>\n",
       "      <td>2.618521</td>\n",
       "      <td>2.034696</td>\n",
       "      <td>0.498946</td>\n",
       "      <td>0.450146</td>\n",
       "      <td>...</td>\n",
       "      <td>0.489002</td>\n",
       "      <td>0.472953</td>\n",
       "      <td>0.477567</td>\n",
       "      <td>0.450146</td>\n",
       "      <td>0.503148</td>\n",
       "      <td>49.085423</td>\n",
       "      <td>0.503148</td>\n",
       "      <td>0.502625</td>\n",
       "      <td>0.500526</td>\n",
       "      <td>49.297456</td>\n",
       "    </tr>\n",
       "    <tr>\n",
       "      <th>min</th>\n",
       "      <td>3.866259e+06</td>\n",
       "      <td>15.000000</td>\n",
       "      <td>2.260000</td>\n",
       "      <td>1.360000</td>\n",
       "      <td>119.000000</td>\n",
       "      <td>63.000000</td>\n",
       "      <td>3.570000</td>\n",
       "      <td>0.460000</td>\n",
       "      <td>0.000000</td>\n",
       "      <td>0.000000</td>\n",
       "      <td>...</td>\n",
       "      <td>0.000000</td>\n",
       "      <td>0.000000</td>\n",
       "      <td>0.000000</td>\n",
       "      <td>0.000000</td>\n",
       "      <td>0.000000</td>\n",
       "      <td>0.000000</td>\n",
       "      <td>0.000000</td>\n",
       "      <td>0.000000</td>\n",
       "      <td>0.000000</td>\n",
       "      <td>4.000000</td>\n",
       "    </tr>\n",
       "    <tr>\n",
       "      <th>25%</th>\n",
       "      <td>5.168878e+06</td>\n",
       "      <td>38.500000</td>\n",
       "      <td>4.297500</td>\n",
       "      <td>2.807500</td>\n",
       "      <td>296.500000</td>\n",
       "      <td>251.750000</td>\n",
       "      <td>6.682500</td>\n",
       "      <td>4.067500</td>\n",
       "      <td>0.000000</td>\n",
       "      <td>0.000000</td>\n",
       "      <td>...</td>\n",
       "      <td>0.000000</td>\n",
       "      <td>0.000000</td>\n",
       "      <td>0.000000</td>\n",
       "      <td>0.000000</td>\n",
       "      <td>0.000000</td>\n",
       "      <td>0.000000</td>\n",
       "      <td>0.000000</td>\n",
       "      <td>0.000000</td>\n",
       "      <td>0.000000</td>\n",
       "      <td>11.000000</td>\n",
       "    </tr>\n",
       "    <tr>\n",
       "      <th>50%</th>\n",
       "      <td>5.748444e+06</td>\n",
       "      <td>51.000000</td>\n",
       "      <td>5.370000</td>\n",
       "      <td>3.575000</td>\n",
       "      <td>565.929577</td>\n",
       "      <td>426.500000</td>\n",
       "      <td>8.375253</td>\n",
       "      <td>5.235000</td>\n",
       "      <td>0.000000</td>\n",
       "      <td>1.000000</td>\n",
       "      <td>...</td>\n",
       "      <td>1.000000</td>\n",
       "      <td>0.000000</td>\n",
       "      <td>0.000000</td>\n",
       "      <td>0.000000</td>\n",
       "      <td>1.000000</td>\n",
       "      <td>12.500000</td>\n",
       "      <td>0.000000</td>\n",
       "      <td>1.000000</td>\n",
       "      <td>1.000000</td>\n",
       "      <td>21.500000</td>\n",
       "    </tr>\n",
       "    <tr>\n",
       "      <th>75%</th>\n",
       "      <td>6.144049e+06</td>\n",
       "      <td>67.000000</td>\n",
       "      <td>6.887500</td>\n",
       "      <td>4.542500</td>\n",
       "      <td>728.000000</td>\n",
       "      <td>628.500000</td>\n",
       "      <td>9.845000</td>\n",
       "      <td>6.315000</td>\n",
       "      <td>1.000000</td>\n",
       "      <td>1.000000</td>\n",
       "      <td>...</td>\n",
       "      <td>1.000000</td>\n",
       "      <td>1.000000</td>\n",
       "      <td>1.000000</td>\n",
       "      <td>1.000000</td>\n",
       "      <td>1.000000</td>\n",
       "      <td>64.500000</td>\n",
       "      <td>1.000000</td>\n",
       "      <td>1.000000</td>\n",
       "      <td>1.000000</td>\n",
       "      <td>78.000000</td>\n",
       "    </tr>\n",
       "    <tr>\n",
       "      <th>max</th>\n",
       "      <td>6.545138e+06</td>\n",
       "      <td>118.000000</td>\n",
       "      <td>21.720000</td>\n",
       "      <td>14.750000</td>\n",
       "      <td>2461.000000</td>\n",
       "      <td>3340.000000</td>\n",
       "      <td>19.080000</td>\n",
       "      <td>12.400000</td>\n",
       "      <td>1.000000</td>\n",
       "      <td>1.000000</td>\n",
       "      <td>...</td>\n",
       "      <td>1.000000</td>\n",
       "      <td>1.000000</td>\n",
       "      <td>1.000000</td>\n",
       "      <td>1.000000</td>\n",
       "      <td>1.000000</td>\n",
       "      <td>174.000000</td>\n",
       "      <td>1.000000</td>\n",
       "      <td>1.000000</td>\n",
       "      <td>1.000000</td>\n",
       "      <td>180.000000</td>\n",
       "    </tr>\n",
       "  </tbody>\n",
       "</table>\n",
       "<p>8 rows × 23 columns</p>\n",
       "</div>"
      ],
      "text/plain": [
       "                 ID   Kasai age  post.1wk T.bil  post.1wk D.bil  post.1wk GGT  \\\n",
       "count  7.600000e+01   76.000000       76.000000       76.000000     76.000000   \n",
       "mean   5.567077e+06   52.947368        6.009211        3.911196    568.872313   \n",
       "std    7.435691e+05   21.967184        3.228167        1.911923    387.024169   \n",
       "min    3.866259e+06   15.000000        2.260000        1.360000    119.000000   \n",
       "25%    5.168878e+06   38.500000        4.297500        2.807500    296.500000   \n",
       "50%    5.748444e+06   51.000000        5.370000        3.575000    565.929577   \n",
       "75%    6.144049e+06   67.000000        6.887500        4.542500    728.000000   \n",
       "max    6.545138e+06  118.000000       21.720000       14.750000   2461.000000   \n",
       "\n",
       "       pre.Kop GGT  pre.Kop T.bil  pre.Kop D.bil     Gender      Jfree  ...  \\\n",
       "count    76.000000      76.000000      76.000000  76.000000  76.000000  ...   \n",
       "mean    520.179474       8.502119       5.415908   0.434211   0.723684  ...   \n",
       "std     447.011251       2.618521       2.034696   0.498946   0.450146  ...   \n",
       "min      63.000000       3.570000       0.460000   0.000000   0.000000  ...   \n",
       "25%     251.750000       6.682500       4.067500   0.000000   0.000000  ...   \n",
       "50%     426.500000       8.375253       5.235000   0.000000   1.000000  ...   \n",
       "75%     628.500000       9.845000       6.315000   1.000000   1.000000  ...   \n",
       "max    3340.000000      19.080000      12.400000   1.000000   1.000000  ...   \n",
       "\n",
       "       splenomegaly    ascites      EV/GV  GI bleeding  cholangitis  \\\n",
       "count     76.000000  76.000000  76.000000    76.000000    76.000000   \n",
       "mean       0.618421   0.328947   0.342105     0.276316     0.513158   \n",
       "std        0.489002   0.472953   0.477567     0.450146     0.503148   \n",
       "min        0.000000   0.000000   0.000000     0.000000     0.000000   \n",
       "25%        0.000000   0.000000   0.000000     0.000000     0.000000   \n",
       "50%        1.000000   0.000000   0.000000     0.000000     1.000000   \n",
       "75%        1.000000   1.000000   1.000000     1.000000     1.000000   \n",
       "max        1.000000   1.000000   1.000000     1.000000     1.000000   \n",
       "\n",
       "           JF-NLS        LTx  LTx or Death    pre-LTx         NLS  \n",
       "count   76.000000  76.000000     76.000000  76.000000   76.000000  \n",
       "mean    37.144737   0.486842      0.526316   0.552632   47.381579  \n",
       "std     49.085423   0.503148      0.502625   0.500526   49.297456  \n",
       "min      0.000000   0.000000      0.000000   0.000000    4.000000  \n",
       "25%      0.000000   0.000000      0.000000   0.000000   11.000000  \n",
       "50%     12.500000   0.000000      1.000000   1.000000   21.500000  \n",
       "75%     64.500000   1.000000      1.000000   1.000000   78.000000  \n",
       "max    174.000000   1.000000      1.000000   1.000000  180.000000  \n",
       "\n",
       "[8 rows x 23 columns]"
      ]
     },
     "execution_count": 12,
     "metadata": {},
     "output_type": "execute_result"
    }
   ],
   "source": [
    "train.describe()"
   ]
  },
  {
   "cell_type": "code",
   "execution_count": 13,
   "metadata": {},
   "outputs": [],
   "source": [
    "def remove_outlier(data, entry):\n",
    "    new_data = data[np.abs(data[entry]-data[entry].mean())<=(3*data[entry].std())]\n",
    "    print (\"Shape Of The After Remove Ouliers from {}: {}\".format(e, data.shape))\n",
    "    return new_data"
   ]
  },
  {
   "cell_type": "code",
   "execution_count": 14,
   "metadata": {},
   "outputs": [
    {
     "name": "stdout",
     "output_type": "stream",
     "text": [
      "Shape Of The After Remove Ouliers from ID: (76, 23)\n",
      "Shape Of The After Remove Ouliers from Kasai age: (76, 23)\n",
      "Shape Of The After Remove Ouliers from post.1wk T.bil: (76, 23)\n",
      "Shape Of The After Remove Ouliers from post.1wk D.bil: (74, 23)\n",
      "Shape Of The After Remove Ouliers from post.1wk GGT: (74, 23)\n",
      "Shape Of The After Remove Ouliers from pre.Kop GGT: (73, 23)\n",
      "Shape Of The After Remove Ouliers from pre.Kop T.bil: (71, 23)\n",
      "Shape Of The After Remove Ouliers from pre.Kop D.bil: (71, 23)\n",
      "Shape Of The After Remove Ouliers from Gender: (70, 23)\n",
      "Shape Of The After Remove Ouliers from Jfree: (70, 23)\n",
      "Shape Of The After Remove Ouliers from Jfree in 3months: (70, 23)\n",
      "Shape Of The After Remove Ouliers from follow up time: (70, 23)\n",
      "Shape Of The After Remove Ouliers from post-op juandice time: (70, 23)\n",
      "Shape Of The After Remove Ouliers from splenomegaly: (69, 23)\n",
      "Shape Of The After Remove Ouliers from ascites: (69, 23)\n",
      "Shape Of The After Remove Ouliers from EV/GV: (69, 23)\n",
      "Shape Of The After Remove Ouliers from GI bleeding: (69, 23)\n",
      "Shape Of The After Remove Ouliers from cholangitis: (69, 23)\n",
      "Shape Of The After Remove Ouliers from JF-NLS: (69, 23)\n",
      "Shape Of The After Remove Ouliers from LTx: (69, 23)\n",
      "Shape Of The After Remove Ouliers from LTx or Death: (69, 23)\n",
      "Shape Of The After Remove Ouliers from pre-LTx: (69, 23)\n",
      "Shape Of The After Remove Ouliers from NLS: (69, 23)\n"
     ]
    }
   ],
   "source": [
    "for e in list(train.columns.values):\n",
    "    train = remove_outlier(train, e)"
   ]
  },
  {
   "cell_type": "code",
   "execution_count": 15,
   "metadata": {},
   "outputs": [
    {
     "data": {
      "text/plain": [
       "[Text(0.5, 0, 'pre.Kop GGT'), Text(0.5, 1.0, 'distribution of pre.Kop GGT')]"
      ]
     },
     "execution_count": 15,
     "metadata": {},
     "output_type": "execute_result"
    },
    {
     "data": {
      "image/png": "[encoded data removed]",
      "text/plain": [
       "<Figure size 864x720 with 4 Axes>"
      ]
     },
     "metadata": {
      "needs_background": "light"
     },
     "output_type": "display_data"
    }
   ],
   "source": [
    "import seaborn as sns\n",
    "fig, axes = plt.subplots(nrows=2,ncols=2)\n",
    "fig.set_size_inches(12, 10)\n",
    "sns.distplot(train[\"post.1wk T.bil\"],ax=axes[0][0])\n",
    "sns.distplot(train[\"post.1wk D.bil\"],ax=axes[0][1])\n",
    "sns.distplot(train[\"post.1wk GGT\"],ax=axes[1][0])\n",
    "sns.distplot(train[\"pre.Kop GGT\"],ax=axes[1][1])\n",
    "\n",
    "axes[0][0].set(xlabel='post.1wk T.bil',title=\"distribution of post.1wk T.bil\")\n",
    "axes[0][1].set(xlabel='post.1wk D.bil',title=\"distribution of post.1wk D.bil\")\n",
    "axes[1][0].set(xlabel='post.1wk GGT',title=\"distribution of post.1wk GGT\")\n",
    "axes[1][1].set(xlabel='pre.Kop GGT',title=\"distribution of pre.Kop GGT\")"
   ]
  },
  {
   "cell_type": "code",
   "execution_count": 16,
   "metadata": {},
   "outputs": [
    {
     "data": {
      "text/plain": [
       "['ID',\n",
       " 'Kasai age',\n",
       " 'post.1wk T.bil',\n",
       " 'post.1wk D.bil',\n",
       " 'post.1wk GGT',\n",
       " 'pre.Kop GGT',\n",
       " 'pre.Kop T.bil',\n",
       " 'pre.Kop D.bil',\n",
       " 'Gender',\n",
       " 'Jfree',\n",
       " 'Jfree in 3months',\n",
       " 'follow up time',\n",
       " 'post-op juandice time',\n",
       " 'splenomegaly',\n",
       " 'ascites',\n",
       " 'EV/GV',\n",
       " 'GI bleeding',\n",
       " 'cholangitis',\n",
       " 'JF-NLS',\n",
       " 'LTx',\n",
       " 'LTx or Death',\n",
       " 'pre-LTx',\n",
       " 'NLS']"
      ]
     },
     "execution_count": 16,
     "metadata": {},
     "output_type": "execute_result"
    }
   ],
   "source": [
    "list(train.columns.values)"
   ]
  },
  {
   "cell_type": "code",
   "execution_count": 17,
   "metadata": {},
   "outputs": [],
   "source": [
    "xColumns = ['ID',\n",
    " 'Kasai age',\n",
    " 'post.1wk T.bil',\n",
    " 'post.1wk D.bil',\n",
    " 'post.1wk GGT',\n",
    " 'pre.Kop GGT',\n",
    " 'pre.Kop T.bil',\n",
    " 'pre.Kop D.bil',\n",
    " 'Gender',\n",
    " 'Jfree',\n",
    " 'Jfree in 3months',\n",
    " 'follow up time',\n",
    " 'post-op juandice time',\n",
    " 'splenomegaly',\n",
    " 'ascites',\n",
    " 'EV/GV',\n",
    " 'GI bleeding',\n",
    " 'cholangitis']"
   ]
  },
  {
   "cell_type": "code",
   "execution_count": 92,
   "metadata": {},
   "outputs": [],
   "source": [
    "from sklearn.tree import DecisionTreeClassifier\n",
    "import graphviz\n",
    "from sklearn import tree"
   ]
  },
  {
   "cell_type": "code",
   "execution_count": 96,
   "metadata": {},
   "outputs": [],
   "source": [
    "import os\n",
    "os.environ[\"PATH\"] += os.pathsep + 'C:/Program Files (x86)/Graphviz2.38/bin/'"
   ]
  },
  {
   "cell_type": "code",
   "execution_count": 101,
   "metadata": {},
   "outputs": [],
   "source": [
    "def predict(train, test, y_entry):\n",
    "    dtc = DecisionTreeClassifier(criterion = 'entropy', random_state=0)\n",
    "    train_x = train[xColumns]\n",
    "    train_y = train[y_entry]\n",
    "    test_x = test[xColumns]\n",
    "    test_y = test[y_entry]\n",
    "    dtc.fit(train_x, train_y)\n",
    "    # export the learned decision tree\n",
    "    dot_data = tree.export_graphviz(dtc, out_file=None,\n",
    "                         feature_names=xColumns,\n",
    "                         filled=True, rounded=True,\n",
    "                         special_characters=True)\n",
    "    graph = graphviz.Source(dot_data)\n",
    "    graph.render(y_entry) # tree saved to wine.pdf\n",
    "    print('train accuracy = {:f}'.format(np.sum(dtc.predict(train_x) == train_y.values) / len(train_y)))\n",
    "    print(dtc.predict(test_x))\n",
    "    print(test_y.values)\n",
    "    print('test accuracy = {:f}'.format(np.sum(dtc.predict(test_x) == test_y.values) / len(test_y)))"
   ]
  },
  {
   "cell_type": "code",
   "execution_count": 102,
   "metadata": {},
   "outputs": [
    {
     "name": "stdout",
     "output_type": "stream",
     "text": [
      "train accuracy = 1.000000\n",
      "[0 1 1 1 1]\n",
      "[0 1 0 0 0]\n",
      "test accuracy = 0.400000\n"
     ]
    }
   ],
   "source": [
    "predict(train, test, 'LTx')"
   ]
  },
  {
   "cell_type": "code",
   "execution_count": 103,
   "metadata": {},
   "outputs": [
    {
     "name": "stdout",
     "output_type": "stream",
     "text": [
      "train accuracy = 1.000000\n",
      "[0 1 1 1 1]\n",
      "[0 1 0 0 0]\n",
      "test accuracy = 0.400000\n"
     ]
    }
   ],
   "source": [
    "predict(train, test, 'LTx or Death')"
   ]
  },
  {
   "cell_type": "code",
   "execution_count": 104,
   "metadata": {},
   "outputs": [
    {
     "name": "stdout",
     "output_type": "stream",
     "text": [
      "train accuracy = 1.000000\n",
      "[0 1 1 1 1]\n",
      "[0 1 1 0 0]\n",
      "test accuracy = 0.600000\n"
     ]
    }
   ],
   "source": [
    "predict(train, test, 'pre-LTx')"
   ]
  },
  {
   "cell_type": "code",
   "execution_count": 105,
   "metadata": {},
   "outputs": [
    {
     "name": "stdout",
     "output_type": "stream",
     "text": [
      "train accuracy = 1.000000\n",
      "[94 11 11  7 14]\n",
      "[116  11  11   4  14]\n",
      "test accuracy = 0.600000\n"
     ]
    }
   ],
   "source": [
    "predict(train, test, 'NLS')"
   ]
  },
  {
   "cell_type": "code",
   "execution_count": 106,
   "metadata": {},
   "outputs": [
    {
     "name": "stdout",
     "output_type": "stream",
     "text": [
      "train accuracy = 1.000000\n",
      "[122   0   7   0   0]\n",
      "[111   2   6   0   0]\n",
      "test accuracy = 0.400000\n"
     ]
    }
   ],
   "source": [
    "predict(train, test, 'JF-NLS')"
   ]
  },
  {
   "cell_type": "code",
   "execution_count": 36,
   "metadata": {},
   "outputs": [
    {
     "name": "stdout",
     "output_type": "stream",
     "text": [
      "accuracy = 0.400000\n"
     ]
    }
   ],
   "source": [
    "print('accuracy = {:f}'.format(np.sum(tree.predict(test_x) == test_y.values) / len(test_y)))"
   ]
  },
  {
   "cell_type": "code",
   "execution_count": 122,
   "metadata": {},
   "outputs": [],
   "source": [
    "from sklearn.ensemble import RandomForestRegressor, RandomForestClassifier\n",
    "def forest_predict(train, test, y_entry):\n",
    "    rf = RandomForestRegressor(n_estimators=30, random_state=0)\n",
    "    train_x = train[xColumns]\n",
    "    train_y = train[y_entry]\n",
    "    test_x = test[xColumns]\n",
    "    test_y = test[y_entry]\n",
    "    rf.fit(train_x, train_y)\n",
    "    print('train accuracy = {:f}'.format(np.sum(rf.predict(train_x) == train_y.values) / len(train_y)))\n",
    "    print(rf.predict(train_x))\n",
    "    print(train_y.values)\n",
    "    print('test accuracy = {:f}'.format(np.sum(rf.predict(test_x) == test_y.values) / len(test_y)))\n",
    "    print(rf.predict(test_x))\n",
    "    print(test_y.values)\n",
    "    "
   ]
  },
  {
   "cell_type": "code",
   "execution_count": 123,
   "metadata": {},
   "outputs": [
    {
     "name": "stdout",
     "output_type": "stream",
     "text": [
      "train accuracy = 0.434783\n",
      "[0.8        0.1        0.03333333 0.96666667 1.         0.1\n",
      " 1.         0.8        0.76666667 0.06666667 0.86666667 0.63333333\n",
      " 0.06666667 0.5        1.         0.         0.         0.03333333\n",
      " 0.23333333 1.         0.         1.         0.33333333 0.03333333\n",
      " 1.         1.         0.2        0.1        0.         0.76666667\n",
      " 1.         0.13333333 1.         0.         0.         0.\n",
      " 0.93333333 1.         1.         1.         0.         0.13333333\n",
      " 0.13333333 1.         0.56666667 0.03333333 0.86666667 0.06666667\n",
      " 1.         1.         1.         0.86666667 1.         0.66666667\n",
      " 1.         0.16666667 0.16666667 1.         0.36666667 1.\n",
      " 0.06666667 0.         0.96666667 0.06666667 0.03333333 0.23333333\n",
      " 0.06666667 0.96666667 1.        ]\n",
      "[1 0 0 1 1 0 1 1 1 0 1 1 0 0 1 0 0 0 0 1 0 1 0 0 1 1 0 0 0 1 1 0 1 0 0 0 1\n",
      " 1 1 1 0 0 0 1 1 0 1 0 1 1 1 1 1 1 1 0 0 1 0 1 0 0 1 0 0 0 0 1 1]\n",
      "test accuracy = 0.400000\n",
      "[0.         1.         0.96666667 1.         0.9       ]\n",
      "[0 1 0 0 0]\n"
     ]
    }
   ],
   "source": [
    "forest_predict(train, test, 'LTx')"
   ]
  },
  {
   "cell_type": "code",
   "execution_count": 124,
   "metadata": {},
   "outputs": [
    {
     "name": "stdout",
     "output_type": "stream",
     "text": [
      "train accuracy = 0.507246\n",
      "[0.86666667 0.1        0.03333333 0.96666667 1.         0.06666667\n",
      " 1.         0.83333333 0.83333333 0.06666667 0.96666667 0.63333333\n",
      " 0.06666667 1.         1.         0.         0.         0.03333333\n",
      " 0.13333333 1.         0.         1.         0.36666667 0.03333333\n",
      " 1.         1.         0.2        0.1        0.         1.\n",
      " 1.         0.13333333 1.         0.         0.         0.\n",
      " 0.96666667 1.         1.         1.         0.03333333 0.13333333\n",
      " 0.16666667 1.         0.56666667 0.03333333 0.96666667 0.06666667\n",
      " 1.         1.         1.         1.         1.         0.7\n",
      " 1.         0.2        0.16666667 1.         1.         1.\n",
      " 0.03333333 0.         1.         0.06666667 0.06666667 0.26666667\n",
      " 0.06666667 1.         1.        ]\n",
      "[1 0 0 1 1 0 1 1 1 0 1 1 0 1 1 0 0 0 0 1 0 1 0 0 1 1 0 0 0 1 1 0 1 0 0 0 1\n",
      " 1 1 1 0 0 0 1 1 0 1 0 1 1 1 1 1 1 1 0 0 1 1 1 0 0 1 0 0 0 0 1 1]\n",
      "test accuracy = 0.200000\n",
      "[0.         0.96666667 0.96666667 1.         1.        ]\n",
      "[0 1 0 0 0]\n"
     ]
    }
   ],
   "source": [
    "forest_predict(train, test, 'LTx or Death')"
   ]
  },
  {
   "cell_type": "code",
   "execution_count": 125,
   "metadata": {},
   "outputs": [
    {
     "name": "stdout",
     "output_type": "stream",
     "text": [
      "train accuracy = 0.478261\n",
      "[0.83333333 0.03333333 0.         1.         1.         0.23333333\n",
      " 1.         0.83333333 0.83333333 0.26666667 0.96666667 0.6\n",
      " 0.06666667 1.         1.         0.13333333 0.         0.1\n",
      " 0.23333333 1.         0.         1.         0.36666667 0.2\n",
      " 1.         1.         0.3        0.2        0.03333333 1.\n",
      " 1.         0.26666667 1.         0.06666667 0.03333333 0.03333333\n",
      " 1.         1.         1.         1.         0.73333333 0.13333333\n",
      " 0.13333333 0.96666667 0.73333333 0.06666667 0.96666667 0.93333333\n",
      " 1.         1.         1.         1.         1.         0.83333333\n",
      " 1.         0.06666667 0.3        1.         1.         1.\n",
      " 0.7        0.         1.         0.03333333 0.         0.2\n",
      " 0.16666667 1.         1.        ]\n",
      "[1 0 0 1 1 0 1 1 1 0 1 1 0 1 1 0 0 0 0 1 0 1 0 0 1 1 0 0 0 1 1 0 1 0 0 0 1\n",
      " 1 1 1 1 0 0 1 1 0 1 1 1 1 1 1 1 1 1 0 0 1 1 1 1 0 1 0 0 0 0 1 1]\n",
      "test accuracy = 0.200000\n",
      "[0.         0.96666667 0.96666667 1.         1.        ]\n",
      "[0 1 1 0 0]\n"
     ]
    }
   ],
   "source": [
    "forest_predict(train, test, 'pre-LTx')"
   ]
  },
  {
   "cell_type": "code",
   "execution_count": 126,
   "metadata": {
    "scrolled": true
   },
   "outputs": [
    {
     "name": "stdout",
     "output_type": "stream",
     "text": [
      "train accuracy = 0.028986\n",
      "[168.8        163.36666667 122.6         13.43333333  11.06666667\n",
      "  32.76666667   8.06666667  18.56666667  18.66666667 104.7\n",
      "  70.76666667 115.63333333 163.13333333  11.8         17.23333333\n",
      "  89.73333333  65.86666667  54.56666667  95.93333333   9.73333333\n",
      "  25.33333333   5.83333333  19.4         91.2         29.06666667\n",
      "   8.93333333 138.66666667  22.8         64.43333333   8.86666667\n",
      "  11.86666667  20.76666667   7.33333333  93.43333333  32.13333333\n",
      "  25.66666667  12.06666667  17.26666667  10.43333333   7.06666667\n",
      " 120.6         21.03333333  25.73333333  16.8         51.73333333\n",
      "  54.23333333  11.7         33.03333333  17.23333333   8.1\n",
      "  10.7         10.96666667   8.1         31.86666667  11.6\n",
      " 173.66666667 127.8          8.93333333  12.          28.16666667\n",
      "  89.03333333  57.13333333  17.76666667  87.1         61.2\n",
      "  88.06666667  42.6         18.46666667   8.        ]\n",
      "[180 163 126  12  11  33   8  16  15 105  96 111 162  12  14  89  67  58\n",
      "  98  10  27   5  15  88  18   8 144  22  63   9  12  21   7  94  33  26\n",
      "  11  17  11   7 120  21  25  17  47  54   7  35  14   8  10  11   8  32\n",
      "  11 180 129   9  12   9  93  55  18  84  62  76  40  18   8]\n",
      "test accuracy = 0.000000\n",
      "[111.2         11.76666667  10.06666667  29.4         17.4       ]\n",
      "[116  11  11   4  14]\n"
     ]
    }
   ],
   "source": [
    "forest_predict(train, test, 'NLS')"
   ]
  },
  {
   "cell_type": "code",
   "execution_count": 127,
   "metadata": {},
   "outputs": [
    {
     "name": "stdout",
     "output_type": "stream",
     "text": [
      "train accuracy = 0.159420\n",
      "[1.61300000e+02 1.54300000e+02 1.20366667e+02 3.10000000e+00\n",
      " 5.43333333e+00 2.57666667e+01 0.00000000e+00 3.03333333e+00\n",
      " 1.20000000e+00 8.58000000e+01 0.00000000e+00 1.15733333e+02\n",
      " 1.54900000e+02 0.00000000e+00 4.40000000e+00 8.25666667e+01\n",
      " 5.90000000e+01 3.93000000e+01 8.05000000e+01 0.00000000e+00\n",
      " 2.52000000e+01 3.33333333e-01 8.66666667e+00 8.94666667e+01\n",
      " 2.96666667e+00 2.50000000e+00 1.35300000e+02 1.60333333e+01\n",
      " 6.11000000e+01 3.33333333e-02 1.50000000e+00 1.41333333e+01\n",
      " 4.66666667e-01 8.94000000e+01 2.71333333e+01 2.45666667e+01\n",
      " 4.50000000e+00 7.60000000e+00 2.16666667e+00 0.00000000e+00\n",
      " 1.12900000e+02 1.49000000e+01 2.40333333e+01 4.66666667e+00\n",
      " 3.66666667e+01 4.16333333e+01 0.00000000e+00 2.50000000e+01\n",
      " 5.43333333e+00 0.00000000e+00 2.33333333e+00 0.00000000e+00\n",
      " 1.33333333e-01 2.66000000e+01 4.10000000e+00 1.65700000e+02\n",
      " 1.19933333e+02 0.00000000e+00 0.00000000e+00 3.33333333e-02\n",
      " 3.16000000e+01 4.60333333e+01 6.66666667e-01 6.74666667e+01\n",
      " 5.52666667e+01 6.22000000e+01 3.71333333e+01 9.33333333e-01\n",
      " 0.00000000e+00]\n",
      "[173 158 122   1   7  29   0   3   0  71   0 108 158   0   5  78  64  39\n",
      "  73   0  21   0  11  85   1   1 138  17  62   0   0  14   0  93  29  23\n",
      "   5  10   0   0 107  17  22   5  37  47   0  26   7   0   0   0   0  16\n",
      "   4 174 118   0   0   0   8  51   0  78  57  73  36   0   0]\n",
      "test accuracy = 0.000000\n",
      "[111.8          4.5          4.93333333   1.5          0.6       ]\n",
      "[111   2   6   0   0]\n"
     ]
    }
   ],
   "source": [
    "forest_predict(train, test, 'JF-NLS')"
   ]
  },
  {
   "cell_type": "code",
   "execution_count": 128,
   "metadata": {},
   "outputs": [
    {
     "data": {
      "text/plain": [
       "<matplotlib.axes._subplots.AxesSubplot at 0x26ecde3da90>"
      ]
     },
     "execution_count": 128,
     "metadata": {},
     "output_type": "execute_result"
    },
    {
     "data": {
      "image/png": "[encoded data removed]",
      "text/plain": [
       "<Figure size 432x288 with 1 Axes>"
      ]
     },
     "metadata": {
      "needs_background": "light"
     },
     "output_type": "display_data"
    }
   ],
   "source": [
    "sns.distplot(data[\"NLS\"])"
   ]
  },
  {
   "cell_type": "code",
   "execution_count": 78,
   "metadata": {},
   "outputs": [
    {
     "data": {
      "text/plain": [
       "<matplotlib.axes._subplots.AxesSubplot at 0x26ecd7e4fd0>"
      ]
     },
     "execution_count": 78,
     "metadata": {},
     "output_type": "execute_result"
    },
    {
     "data": {
      "image/png": "[encoded data removed]",
      "text/plain": [
       "<Figure size 432x288 with 1 Axes>"
      ]
     },
     "metadata": {
      "needs_background": "light"
     },
     "output_type": "display_data"
    }
   ],
   "source": [
    "sns.distplot(np.log(data[\"NLS\"]))"
   ]
  },
  {
   "cell_type": "code",
   "execution_count": null,
   "metadata": {},
   "outputs": [],
   "source": []
  }
 ],
 "metadata": {
  "kernelspec": {
   "display_name": "Python 3",
   "language": "python",
   "name": "python3"
  },
  "language_info": {
   "codemirror_mode": {
    "name": "ipython",
    "version": 3
   },
   "file_extension": ".py",
   "mimetype": "text/x-python",
   "name": "python",
   "nbconvert_exporter": "python",
   "pygments_lexer": "ipython3",
   "version": "3.6.6"
  }
 },
 "nbformat": 4,
 "nbformat_minor": 2
}
